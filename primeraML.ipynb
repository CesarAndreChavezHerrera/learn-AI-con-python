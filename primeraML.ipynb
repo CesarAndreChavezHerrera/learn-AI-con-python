{
  "nbformat": 4,
  "nbformat_minor": 0,
  "metadata": {
    "colab": {
      "name": "primeraML.ipynb",
      "provenance": [],
      "collapsed_sections": [],
      "authorship_tag": "ABX9TyOhuh44WlJsavXOwJW96s3n",
      "include_colab_link": true
    },
    "kernelspec": {
      "name": "python3",
      "display_name": "Python 3"
    }
  },
  "cells": [
    {
      "cell_type": "markdown",
      "metadata": {
        "id": "view-in-github",
        "colab_type": "text"
      },
      "source": [
        "<a href=\"https://colab.research.google.com/github/CesarAndreChavezHerrera/learn-AI-con-python/blob/master/primeraML.ipynb\" target=\"_parent\"><img src=\"https://colab.research.google.com/assets/colab-badge.svg\" alt=\"Open In Colab\"/></a>"
      ]
    },
    {
      "cell_type": "code",
      "metadata": {
        "id": "RmYtb-secyc-",
        "colab_type": "code",
        "colab": {}
      },
      "source": [
        "import torch\n",
        "import numpy as np\n",
        "import torch.nn as nn\n",
        "import torch.optim as optim\n",
        "import matplotlib.pyplot as plt"
      ],
      "execution_count": 0,
      "outputs": []
    },
    {
      "cell_type": "markdown",
      "metadata": {
        "id": "iE33DSrZdx3v",
        "colab_type": "text"
      },
      "source": [
        "\n",
        "\n",
        "---\n",
        "#data set\n",
        "\n",
        "---\n",
        "\n",
        "problema a predecir es el precio de un auto por cuantas unidades hay\n"
      ]
    },
    {
      "cell_type": "code",
      "metadata": {
        "id": "bNvVJaBndwvU",
        "colab_type": "code",
        "outputId": "51758df8-1acd-44ca-f078-21ae5eafc4c9",
        "colab": {
          "base_uri": "https://localhost:8080/",
          "height": 282
        }
      },
      "source": [
        "Car_prices = [5   ,6 ,7    ,8  ,9  ,10 ]\n",
        "units_sold = [8.5 ,8 ,7.0  ,6  ,5  , 4 ]\n",
        "\n",
        "plt.scatter(Car_prices,units_sold)"
      ],
      "execution_count": 0,
      "outputs": [
        {
          "output_type": "execute_result",
          "data": {
            "text/plain": [
              "<matplotlib.collections.PathCollection at 0x7f3b031e66d8>"
            ]
          },
          "metadata": {
            "tags": []
          },
          "execution_count": 3
        },
        {
          "output_type": "display_data",
          "data": {
            "image/png": "[encoded data removed]",
            "text/plain": [
              "<Figure size 432x288 with 1 Axes>"
            ]
          },
          "metadata": {
            "tags": [],
            "needs_background": "light"
          }
        }
      ]
    },
    {
      "cell_type": "markdown",
      "metadata": {
        "id": "8a7uqwSce7dy",
        "colab_type": "text"
      },
      "source": [
        "#crear tensores\n",
        "---\n",
        "\n"
      ]
    },
    {
      "cell_type": "code",
      "metadata": {
        "id": "OqAOV6uffAqP",
        "colab_type": "code",
        "outputId": "27070754-6e80-40bb-a48f-6fbba6d13048",
        "colab": {
          "base_uri": "https://localhost:8080/",
          "height": 118
        }
      },
      "source": [
        "#trasformar  a array de numpy\n",
        "prices_array = np.array(Car_prices).reshape(-1,1)\n",
        "units_array = np.array(units_sold).reshape(-1,1)\n",
        "prices_array\n",
        "#units_array"
      ],
      "execution_count": 0,
      "outputs": [
        {
          "output_type": "execute_result",
          "data": {
            "text/plain": [
              "array([[8.5],\n",
              "       [8. ],\n",
              "       [7. ],\n",
              "       [6. ],\n",
              "       [5. ],\n",
              "       [4. ]])"
            ]
          },
          "metadata": {
            "tags": []
          },
          "execution_count": 9
        }
      ]
    },
    {
      "cell_type": "code",
      "metadata": {
        "id": "olOj4vBaf1WS",
        "colab_type": "code",
        "outputId": "445d9890-cff0-4ea7-fcf3-344b88e78cda",
        "colab": {
          "base_uri": "https://localhost:8080/",
          "height": 34
        }
      },
      "source": [
        "#trasformar a tensores \n",
        "\n",
        "prices = torch.from_numpy(prices_array).float().requires_grad_(True)\n",
        "units = torch.from_numpy(units_array).float()\n",
        "prices.shape"
      ],
      "execution_count": 0,
      "outputs": [
        {
          "output_type": "execute_result",
          "data": {
            "text/plain": [
              "torch.Size([6, 1])"
            ]
          },
          "metadata": {
            "tags": []
          },
          "execution_count": 13
        }
      ]
    },
    {
      "cell_type": "markdown",
      "metadata": {
        "id": "IHorlVrwg0P7",
        "colab_type": "text"
      },
      "source": [
        "#entrenar \n",
        "\n",
        "---\n",
        "\n"
      ]
    },
    {
      "cell_type": "code",
      "metadata": {
        "id": "SHba9HBrgz0n",
        "colab_type": "code",
        "outputId": "185a42b3-bd24-4102-ff63-b7f7d97215b6",
        "colab": {
          "base_uri": "https://localhost:8080/",
          "height": 298
        }
      },
      "source": [
        "#cuando terminde de entrenar aqui es donde se mete el valo como tensor\n",
        "model = nn.Linear(1,1)  \n",
        "\n",
        "\n",
        "loss_function = nn.MSELoss()\n",
        "optimizer = optim.SGD(model.parameters(),lr=0.015)\n",
        "\n",
        "losses = []\n",
        "iteration = 4000\n",
        "\n",
        "for i in range(iteration):\n",
        "  pred = model(prices)\n",
        "  loss = loss_function(pred, units)\n",
        "  losses.append(loss.data)\n",
        "\n",
        "  optimizer.zero_grad()\n",
        "  loss.backward()\n",
        "  optimizer.step()\n",
        "\n",
        "print(loss)\n",
        "\n",
        "plt.plot(range(iteration),losses)"
      ],
      "execution_count": 0,
      "outputs": [
        {
          "output_type": "stream",
          "text": [
            "tensor(0.0199, grad_fn=<MseLossBackward>)\n"
          ],
          "name": "stdout"
        },
        {
          "output_type": "execute_result",
          "data": {
            "text/plain": [
              "[<matplotlib.lines.Line2D at 0x7f3b0193e630>]"
            ]
          },
          "metadata": {
            "tags": []
          },
          "execution_count": 32
        },
        {
          "output_type": "display_data",
          "data": {
            "image/png": "[encoded data removed]",
            "text/plain": [
              "<Figure size 432x288 with 1 Axes>"
            ]
          },
          "metadata": {
            "tags": [],
            "needs_background": "light"
          }
        }
      ]
    },
    {
      "cell_type": "code",
      "metadata": {
        "id": "UB3IDKT2jqz8",
        "colab_type": "code",
        "outputId": "e08d1c67-c007-4b9f-a1c7-9b6516c255de",
        "colab": {
          "base_uri": "https://localhost:8080/",
          "height": 34
        }
      },
      "source": [
        "x = torch.Tensor([[1]])\n",
        "p = model(x)\n",
        "p\n"
      ],
      "execution_count": 0,
      "outputs": [
        {
          "output_type": "execute_result",
          "data": {
            "text/plain": [
              "tensor([[12.4202]], grad_fn=<AddmmBackward>)"
            ]
          },
          "metadata": {
            "tags": []
          },
          "execution_count": 36
        }
      ]
    }
  ]
}